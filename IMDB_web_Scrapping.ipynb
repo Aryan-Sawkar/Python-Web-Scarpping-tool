{
  "nbformat": 4,
  "nbformat_minor": 0,
  "metadata": {
    "colab": {
      "name": "Untitled0.ipynb",
      "provenance": [],
      "collapsed_sections": [],
      "toc_visible": true
    },
    "kernelspec": {
      "name": "python3",
      "display_name": "Python 3"
    }
  },
  "cells": [
    {
      "cell_type": "code",
      "metadata": {
        "id": "ysa1y1Upwou-",
        "outputId": "8cf0f445-4784-4886-aac6-ce71b1306185",
        "colab": {
          "base_uri": "https://localhost:8080/",
          "height": 173
        }
      },
      "source": [
        "!pip install requests\n",
        "!pip install lxml\n",
        "!pip install bs4"
      ],
      "execution_count": 29,
      "outputs": [
        {
          "output_type": "stream",
          "text": [
            "Requirement already satisfied: requests in /usr/local/lib/python3.6/dist-packages (2.23.0)\n",
            "Requirement already satisfied: urllib3!=1.25.0,!=1.25.1,<1.26,>=1.21.1 in /usr/local/lib/python3.6/dist-packages (from requests) (1.24.3)\n",
            "Requirement already satisfied: idna<3,>=2.5 in /usr/local/lib/python3.6/dist-packages (from requests) (2.10)\n",
            "Requirement already satisfied: chardet<4,>=3.0.2 in /usr/local/lib/python3.6/dist-packages (from requests) (3.0.4)\n",
            "Requirement already satisfied: certifi>=2017.4.17 in /usr/local/lib/python3.6/dist-packages (from requests) (2020.6.20)\n",
            "Requirement already satisfied: lxml in /usr/local/lib/python3.6/dist-packages (4.2.6)\n",
            "Requirement already satisfied: bs4 in /usr/local/lib/python3.6/dist-packages (0.0.1)\n",
            "Requirement already satisfied: beautifulsoup4 in /usr/local/lib/python3.6/dist-packages (from bs4) (4.6.3)\n"
          ],
          "name": "stdout"
        }
      ]
    },
    {
      "cell_type": "markdown",
      "metadata": {
        "id": "QdqSCMKkuRtn"
      },
      "source": [
        "Importing the libraries"
      ]
    },
    {
      "cell_type": "code",
      "metadata": {
        "id": "IMq8uwUVr1vf"
      },
      "source": [
        "import requests\n",
        "import lxml\n",
        "import bs4\n",
        "import pandas as pd"
      ],
      "execution_count": 30,
      "outputs": []
    },
    {
      "cell_type": "markdown",
      "metadata": {
        "id": "Sirmg--9zY1X"
      },
      "source": [
        "Initialising"
      ]
    },
    {
      "cell_type": "code",
      "metadata": {
        "id": "8Y0BMvT3zhx5"
      },
      "source": [
        "name=[]\n",
        "ratings=[]\n",
        "result=requests.get('https://www.imdb.com/chart/top/')\n",
        "soup=bs4.BeautifulSoup(result.text,\"lxml\")"
      ],
      "execution_count": 31,
      "outputs": []
    },
    {
      "cell_type": "markdown",
      "metadata": {
        "id": "qS-FJ0Lp1N1O"
      },
      "source": [
        "Scrapping process"
      ]
    },
    {
      "cell_type": "code",
      "metadata": {
        "id": "SVXwXO401UdB"
      },
      "source": [
        "for a in soup.select(\".titleColumn\"):\n",
        "  name.append(str(a.text).strip())\n",
        "\n",
        "for b in soup.select(\".ratingColumn .imdbRating\"):\n",
        "  ratings.append(str(b.text).strip())\n",
        "\n",
        "c={'Product Name':name ,'Ratings':ratings}\n",
        "\n",
        "\n",
        "df=pd.DataFrame.from_dict(c,orient='index')\n",
        "df.to_csv('IMDb Top 250.csv',index=True,encoding='utf-8')\n",
        "     "
      ],
      "execution_count": 33,
      "outputs": []
    }
  ]
}